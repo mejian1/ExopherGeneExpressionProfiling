{
  "cells": [
    {
      "cell_type": "markdown",
      "metadata": {
        "id": "view-in-github",
        "colab_type": "text"
      },
      "source": [
        "<a href=\"https://colab.research.google.com/github/mejian1/ExopherGeneExpressionProfiling/blob/main/fastingGene_Clusters.ipynb\" target=\"_parent\"><img src=\"https://colab.research.google.com/assets/colab-badge.svg\" alt=\"Open In Colab\"/></a>"
      ]
    },
    {
      "cell_type": "code",
      "source": [
        "import pandas as pd\n",
        "import numpy as np\n",
        "from sklearn.preprocessing import StandardScaler\n",
        "from sklearn.cluster import KMeans\n",
        "\n",
        "try:\n",
        "    # 1. Load and Prepare Data (same as before)\n",
        "    new_column_names = [\n",
        "        'WBID', 'Gene_ID', 'Public_Name',\n",
        "        'Fed_avg', 'Fed_sd', 'Fed_CV',\n",
        "        '3h_fast_avg', '3h_fast_sd', '3h_fast_CV',\n",
        "        '4h_fast_avg', '4h_fast_sd', '4h_fast_CV',\n",
        "        '6h_fast_avg', '6h_fast_sd', '6h_fast_CV'\n",
        "    ]\n",
        "    df = pd.read_csv('harvardfastingDGEnotToptable.csv', header=None, skiprows=2, names=new_column_names)\n",
        "\n",
        "    # Log2 Transform Average Expression\n",
        "    avg_cols = ['Fed_avg', '3h_fast_avg', '4h_fast_avg', '6h_fast_avg']\n",
        "    df_avg_log2 = np.log2(df[avg_cols] + 1)\n",
        "\n",
        "    # Standardize the data\n",
        "    scaler = StandardScaler()\n",
        "    df_scaled_values = scaler.fit_transform(df_avg_log2.T).T\n",
        "    df_scaled = pd.DataFrame(df_scaled_values, index=df_avg_log2.index, columns=df_avg_log2.columns)\n",
        "\n",
        "    # 2. Perform K-Means Clustering (with k=6)\n",
        "    k_optimal = 6\n",
        "    kmeans = KMeans(n_clusters=k_optimal, random_state=42, n_init=10)\n",
        "    cluster_labels = kmeans.fit_predict(df_scaled)\n",
        "\n",
        "    # 3. Create and Export the Gene Cluster File\n",
        "    # Create a new DataFrame with the gene identifiers and their assigned cluster.\n",
        "    df_clusters = df[['WBID', 'Public_Name']].copy()\n",
        "    df_clusters['cluster'] = cluster_labels\n",
        "\n",
        "    # Save the DataFrame to a CSV file.\n",
        "    df_clusters.to_csv('gene_clusters.csv', index=False)\n",
        "\n",
        "    print(\"Successfully exported the gene clusters to 'gene_clusters.csv'.\")\n",
        "    # Also, print the head of the file to show the user.\n",
        "    print(\"\\nHead of the exported file (gene_clusters.csv):\")\n",
        "    print(df_clusters.head())\n",
        "\n",
        "    # Print the size of each cluster\n",
        "    print(\"\\nNumber of genes in each cluster:\")\n",
        "    print(df_clusters['cluster'].value_counts().sort_index())\n",
        "\n",
        "\n",
        "except FileNotFoundError:\n",
        "    print(\"The file 'harvardfastingDGEnotToptable.csv' was not found. Please make sure the file is in the correct directory.\")\n",
        "except Exception as e:\n",
        "    print(f\"An error occurred: {e}\")"
      ],
      "outputs": [],
      "execution_count": null,
      "metadata": {
        "id": "RYby4xyvDJTj"
      }
    },
    {
      "cell_type": "code",
      "source": [
        "from google.colab import drive\n",
        "drive.mount('/content/drive')"
      ],
      "metadata": {
        "colab": {
          "base_uri": "https://localhost:8080/"
        },
        "id": "dQTZwogEDN06",
        "outputId": "0bca789f-0fd7-4794-acc5-cd6b1db3d2e9"
      },
      "execution_count": 1,
      "outputs": [
        {
          "output_type": "stream",
          "name": "stdout",
          "text": [
            "Mounted at /content/drive\n"
          ]
        }
      ]
    },
    {
      "cell_type": "markdown",
      "source": [
        "```text?code_stderr&code_event_index=2\n",
        "Traceback (most recent call last):\n",
        "  File \"<string>\", line 46\n",
        "    df = pd.read_csv('harvardfastingDGEnotToptable.csv', header=1)\n",
        "IndentationError: expected an indented block after 'if' statement on line 40\n",
        "\n",
        "```"
      ],
      "metadata": {
        "id": "yndcJxLyDJTl"
      }
    },
    {
      "cell_type": "code",
      "source": [
        "import pandas as pd\n",
        "import numpy as np\n",
        "from sklearn.preprocessing import StandardScaler\n",
        "from sklearn.cluster import KMeans\n",
        "\n",
        "try:\n",
        "    # 1. Load and Prepare Data\n",
        "    new_column_names = [\n",
        "        'WBID', 'Gene_ID', 'Public_Name',\n",
        "        'Fed_avg', 'Fed_sd', 'Fed_CV',\n",
        "        '3h_fast_avg', '3h_fast_sd', '3h_fast_CV',\n",
        "        '4h_fast_avg', '4h_fast_sd', '4h_fast_CV',\n",
        "        '6h_fast_avg', '6h_fast_sd', '6h_fast_CV'\n",
        "    ]\n",
        "    df = pd.read_csv('harvardfastingDGEnotToptable.csv', header=None, skiprows=2, names=new_column_names)\n",
        "\n",
        "    # Log2 Transform Average Expression\n",
        "    avg_cols = ['Fed_avg', '3h_fast_avg', '4h_fast_avg', '6h_fast_avg']\n",
        "    df_avg = df[avg_cols]\n",
        "    df_avg_log2 = np.log2(df_avg + 1)\n",
        "\n",
        "    # Standardize the data\n",
        "    scaler = StandardScaler()\n",
        "    df_scaled = scaler.fit_transform(df_avg_log2.T).T\n",
        "    df_scaled = pd.DataFrame(df_scaled, index=df_avg_log2.index, columns=df_avg_log2.columns)\n",
        "\n",
        "    # 2. Perform K-Means Clustering (using k=6 as determined previously)\n",
        "    k_optimal = 6\n",
        "    kmeans = KMeans(n_clusters=k_optimal, random_state=42, n_init=10)\n",
        "    cluster_labels = kmeans.fit_predict(df_scaled)\n",
        "\n",
        "    # 3. Create and Export Cluster Assignment File\n",
        "    df_clusters = df[['WBID', 'Public_Name']].copy()\n",
        "    df_clusters['cluster'] = cluster_labels\n",
        "\n",
        "    # Save to CSV\n",
        "    df_clusters.to_csv('gene_clusters.csv', index=False)\n",
        "\n",
        "    print(\"Gene cluster assignments have been successfully exported to 'gene_clusters.csv'\")\n",
        "    print(df_clusters.head())\n",
        "    print(\"\\nCluster sizes:\")\n",
        "    print(df_clusters['cluster'].value_counts())\n",
        "\n",
        "\n",
        "except FileNotFoundError:\n",
        "    print(\"The file 'harvardfastingDGEnotToptable.csv' was not found. Please make sure the file is in the correct directory.\")\n",
        "except Exception as e:\n",
        "    print(f\"An error occurred: {e}\")"
      ],
      "outputs": [],
      "execution_count": null,
      "metadata": {
        "id": "BMwDPjYqDJTm"
      }
    },
    {
      "cell_type": "markdown",
      "source": [
        "```text?code_stdout&code_event_index=6\n",
        "Gene cluster assignments have been successfully exported to 'gene_clusters.csv'\n",
        "             WBID Public_Name  cluster\n",
        "0  WBGene00011491     T05F1.5        0\n",
        "1  WBGene00015353    C02F5.13        1\n",
        "2  WBGene00044067    zipt-7.1        3\n",
        "3  WBGene00020283     T06A4.3        1\n",
        "4  WBGene00011376       gla-3        0\n",
        "\n",
        "Cluster sizes:\n",
        "4    3171\n",
        "0    2662\n",
        "5    1494\n",
        "3    1311\n",
        "1    1140\n",
        "2     840\n",
        "Name: cluster, dtype: int64\n",
        "\n",
        "```\n",
        "\n",
        "[file-tag: code-generated-file-0-1755904171505790838]\n",
        "\n",
        "Of course. I've exported the gene cluster assignments to a CSV file for you. You can download it here:\n",
        "\n",
        "**[gene\\_clusters.csv](https://www.google.com/search?q=download:generated:gene_clusters.csv)**\n",
        "\n",
        "This file contains the WormBase ID (WBID), the public gene name, and the cluster number (0 through 5) that I assigned to each gene.\n",
        "\n",
        "-----\n",
        "\n",
        "### Functional Enrichment Analysis: The \"So What?\" 生物\n",
        "\n",
        "Now we get to the most interpretive and biologically meaningful part of the analysis: figuring out what these groups of co-regulated genes actually *do*. This is where we connect the dots from raw expression changes to biological function. Since you're a fellow geneticist, you'll appreciate how this step helps us build testable hypotheses.\n",
        "\n",
        "#### 1\\. Gene Ontology (GO) Analysis\n",
        "\n",
        "The first thing we'll do is perform a **Gene Ontology (GO) analysis** on each cluster. GO provides a controlled vocabulary to describe the attributes of genes and gene products in any organism. It's broken down into three domains:\n",
        "\n",
        "  * **Biological Process (BP):** The larger biological programs that a gene product is involved in, like \"aging\" or \"autophagy.\"\n",
        "  * **Molecular Function (MF):** The specific molecular activities of a gene product, such as \"protein kinase activity\" or \"DNA binding.\"\n",
        "  * **Cellular Component (CC):** The locations in the cell where a gene product is active, like \"nucleus\" or \"mitochondrion.\"\n",
        "\n",
        "For each of our gene clusters, we'll ask: \"Are there any GO terms that are statistically overrepresented in this list of genes compared to all the genes in the *C. elegans* genome?\"\n",
        "\n",
        "For example, we might find that the genes in **Cluster 2** (the ones that are strongly and consistently upregulated during fasting) are significantly enriched for GO terms like \"autophagy,\" \"lipid metabolism,\" and \"response to starvation.\" This would provide strong evidence that these are the key biological processes being activated to cope with the lack of nutrients.\n",
        "\n",
        "#### 2\\. Pathway Analysis (KEGG)\n",
        "\n",
        "Next, we can perform a **pathway analysis**, often using the **Kyoto Encyclopedia of Genes and Genomes (KEGG)** database. While GO analysis tells us about broad biological themes, KEGG analysis is more specific and tells us if our genes are enriched in well-defined metabolic or signaling pathways.\n",
        "\n",
        "For instance, we might discover that the downregulated genes in **Cluster 0** are significantly enriched in pathways related to \"ribosome biogenesis\" or \"cell cycle,\" which makes perfect biological sense—when starved, an animal will shut down costly processes like growth and reproduction to conserve energy.\n",
        "\n",
        "#### Recommended Tools for *C. elegans*\n",
        "\n",
        "Given your background in bioinformatics using Python and R, you have several excellent options for performing this analysis. You can simply take the lists of WBIDs from the CSV file for each cluster and plug them into these tools:\n",
        "\n",
        "  * **Web-Based (Easy and Quick):**\n",
        "\n",
        "      * **WormBase Gene Set Enrichment Analysis:** The official resource for *C. elegans*. It has a built-in GO Term Finder that is specifically tailored for worm data. ([https://wormbase.org/tools/enrichment/tea/tea.cgi](https://wormbase.org/tools/enrichment/tea/tea.cgi))\n",
        "      * **DAVID:** A very popular and comprehensive tool that provides enrichment analysis for GO, KEGG, and many other functional categories. ([https://david.ncifcrf.gov/](https://david.ncifcrf.gov/))\n",
        "      * **g:Profiler:** A powerful and user-friendly web server for functional enrichment analysis. ([https://biit.cs.ut.ee/gprofiler/gost](https://biit.cs.ut.ee/gprofiler/gost))\n",
        "\n",
        "  * **Programmatic (Reproducible and Customizable):**\n",
        "\n",
        "      * **R:** The `clusterProfiler` package is the gold standard for this type of analysis in R. It's incredibly powerful, flexible, and produces great visualizations.\n",
        "      * **Python:** The `gseapy` library is a great Python wrapper for performing gene set enrichment analysis.\n",
        "\n",
        "By performing these analyses, you'll be able to move from a list of thousands of changing genes to a clear, actionable story about the molecular and cellular response of *C. elegans* to fasting."
      ],
      "metadata": {
        "id": "06jUHxBtDJTm"
      }
    }
  ],
  "metadata": {
    "colab": {
      "provenance": [],
      "include_colab_link": true
    },
    "kernelspec": {
      "display_name": "Python 3",
      "name": "python3"
    }
  },
  "nbformat": 4,
  "nbformat_minor": 0
}