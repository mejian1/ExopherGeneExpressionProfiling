{
  "cells": [
    {
      "cell_type": "markdown",
      "metadata": {
        "id": "view-in-github",
        "colab_type": "text"
      },
      "source": [
        "<a href=\"https://colab.research.google.com/github/mejian1/ExopherGeneExpressionProfiling/blob/main/docs/pywikipathways_Overview.ipynb\" target=\"_parent\"><img src=\"https://colab.research.google.com/assets/colab-badge.svg\" alt=\"Open In Colab\"/></a>"
      ]
    },
    {
      "cell_type": "markdown",
      "metadata": {
        "id": "7gJOUxL2Bqhk"
      },
      "source": [
        "# Overview\n",
        "[![Open In Colab](https://colab.research.google.com/assets/colab-badge.svg)](https://colab.research.google.com/github/kozo2/pywikipathways/blob/main/docs/pywikipathways_Overview.ipynb)\n",
        "\n",
        "**by Kozo Nishida and Alexander Pico**\n",
        "\n",
        "**pywikipathways 0.0.2**\n",
        "\n",
        "*WikiPathways* is a well-known repository for biological pathways that provides unique tools to the research community for content creation, editing and utilization [1].\n",
        "\n",
        "**Python** is a powerful programming language and environment for statistical and exploratory data analysis.\n",
        "\n",
        "*pywikipathways* leverages the WikiPathways API to communicate between **Python** and WikiPathways, allowing any pathway to be queried, interrogated and downloaded in both data and image formats. Queries are typically performed based on “Xrefs”, standardized identifiers for genes, proteins and metabolites. Once you can identified a pathway, you can use the WPID (WikiPathways identifier) to make additional queries.\n",
        "\n",
        "## Prerequisites\n",
        "All you need is this **pywikipathways** package!\n",
        "To install pywikipathways, run"
      ]
    },
    {
      "cell_type": "code",
      "execution_count": null,
      "metadata": {
        "id": "006CPmL4WEFS"
      },
      "outputs": [],
      "source": [
        "!pip install pywikipathways"
      ]
    },
    {
      "cell_type": "code",
      "execution_count": null,
      "metadata": {
        "id": "Qd_9CKFubDWI"
      },
      "outputs": [],
      "source": [
        "import pywikipathways as pwpw"
      ]
    },
    {
      "cell_type": "markdown",
      "metadata": {
        "id": "ldQX1B-YC8E8"
      },
      "source": [
        "## Getting started\n",
        "Lets first get oriented with what WikiPathways contains. For example, here’s how you check to see which species are currently supported by WikiPathways:"
      ]
    },
    {
      "cell_type": "code",
      "execution_count": null,
      "metadata": {
        "id": "CCrccZGTbJEr"
      },
      "outputs": [],
      "source": [
        "pwpw.list_organisms()"
      ]
    },
    {
      "cell_type": "markdown",
      "metadata": {
        "id": "n9cznBF5DGil"
      },
      "source": [
        "You should see 30 or more species listed. This list is useful for subsequent queries that take an *organism* argument, to avoid misspelling.\n",
        "\n",
        "Next, let’s see how many pathways are available for Human:"
      ]
    },
    {
      "cell_type": "code",
      "execution_count": null,
      "metadata": {
        "id": "5vVJAMrCDMs4"
      },
      "outputs": [],
      "source": [
        "ce_pathways = pwpw.list_pathways('Caenorhabditis elegans')"
      ]
    },
    {
      "cell_type": "code",
      "execution_count": null,
      "metadata": {
        "id": "KZb5zLfHDTuA"
      },
      "outputs": [],
      "source": [
        "ce_pathways"
      ]
    },
    {
      "cell_type": "markdown",
      "metadata": {
        "id": "KFl0WBXGDvzQ"
      },
      "source": [
        "Yikes! That is a lot of information.\n",
        "Let’s break that down a bit:"
      ]
    },
    {
      "cell_type": "code",
      "execution_count": null,
      "metadata": {
        "id": "8sVREGDJRwDc"
      },
      "outputs": [],
      "source": [
        "help(pwpw.list_pathways)\n",
        "list_pathways(organism='')"
      ]
    },
    {
      "cell_type": "code",
      "execution_count": null,
      "metadata": {
        "id": "pCo4bCRYSJk_"
      },
      "outputs": [],
      "source": [
        "hs_pathways.shape"
      ]
    },
    {
      "cell_type": "markdown",
      "metadata": {
        "id": "roldgmRmSbB3"
      },
      "source": [
        "Ok. The help docs tell us that for each Human pathway we are getting a lot of information.\n",
        "A *pandas.DataFrame.shape* might be all you really want to know.\n",
        "Or if you’re interested in just one particular piece of information, check out these functions:"
      ]
    },
    {
      "cell_type": "code",
      "execution_count": null,
      "metadata": {
        "id": "NWQeopT0Savj"
      },
      "outputs": [],
      "source": [
        "help(pwpw.list_pathway_ids)"
      ]
    },
    {
      "cell_type": "code",
      "execution_count": null,
      "metadata": {
        "id": "3tTl5WH6TBZm"
      },
      "outputs": [],
      "source": [
        "help(pwpw.list_pathway_names)"
      ]
    },
    {
      "cell_type": "code",
      "execution_count": null,
      "metadata": {
        "id": "Z9BAIHD4TBPp"
      },
      "outputs": [],
      "source": [
        "help(pwpw.list_pathway_urls)"
      ]
    },
    {
      "cell_type": "markdown",
      "metadata": {
        "id": "-RcX6Am-TL4U"
      },
      "source": [
        "These return simple lists containing just a particular piece of information for each pathway result.\n",
        "\n",
        "Finally, there’s another way to find pathways of interest: by Xref. An Xref is simply a standardized identifier form an official source. WikiPathways relies on BridgeDb [2] to provide dozens of Xref sources for genes, proteins and metabolites. See the full list at https://github.com/bridgedb/datasources/blob/main/datasources.tsv\n",
        "\n",
        "With **pywikipathways**, the approach is simple.\n",
        "Take a supported identifier for a molecule of interest, e.g., an official gene symbol from HGNC, “TNF” and check the *system code* for the datasource, e.g., HGNC = H (this comes from the second column in the datasources.txt table linked to above), and then form your query:"
      ]
    },
    {
      "cell_type": "code",
      "execution_count": null,
      "metadata": {
        "id": "TM2nCqiYD9Y6"
      },
      "outputs": [],
      "source": [
        "tnf_pathways = pwpw.find_pathways_by_xref('TNF','H')"
      ]
    },
    {
      "cell_type": "code",
      "execution_count": null,
      "metadata": {
        "id": "lElpOozlEFEz"
      },
      "outputs": [],
      "source": [
        "tnf_pathways"
      ]
    },
    {
      "cell_type": "markdown",
      "metadata": {
        "id": "L73gzvkZEVhx"
      },
      "source": [
        "Ack! That’s a lot of information. We provide not only the pathway information, but also the search result score in case you want to rank results, etc. Again, if all you’re interested in is WPIDs, names or URLs, then there are these handy alternatives that will just return simple lists:"
      ]
    },
    {
      "cell_type": "code",
      "execution_count": null,
      "metadata": {
        "id": "Yl_13aW8Dic9"
      },
      "outputs": [],
      "source": [
        "help(pwpw.find_pathway_ids_by_xref)"
      ]
    },
    {
      "cell_type": "code",
      "execution_count": null,
      "metadata": {
        "id": "hG3Hvf-NWEFh"
      },
      "outputs": [],
      "source": [
        "help(pwpw.find_pathway_names_by_xref)"
      ]
    },
    {
      "cell_type": "code",
      "execution_count": null,
      "metadata": {
        "id": "ew64VDIVWEFi"
      },
      "outputs": [],
      "source": [
        "help(pwpw.find_pathway_urls_by_xref)"
      ]
    },
    {
      "cell_type": "markdown",
      "metadata": {
        "id": "R_5iFEBdWEFi"
      },
      "source": [
        "*Be aware*: a simple *len* function may be misleading here since a given pathway will be listed multiple times if the Xref is present mutiple times."
      ]
    },
    {
      "cell_type": "markdown",
      "metadata": {
        "id": "ldozfBTpEkpU"
      },
      "source": [
        "## My favorite pathways\n",
        "At this point, we should have one or more pathways identified from the queries above. Let’s assume we identified ‘WP554’, the Ace Inhibitor Pathway (https://wikipathways.org/instance/WP554). We will use its WPID (WP554) in subsequent queries.\n",
        "\n",
        "First off, we can get information about the pathway (if we didn’t already collect it above):"
      ]
    },
    {
      "cell_type": "code",
      "execution_count": null,
      "metadata": {
        "id": "1LgCbfyREm0k"
      },
      "outputs": [],
      "source": [
        "pwpw.get_pathway_info('WP554')"
      ]
    },
    {
      "cell_type": "markdown",
      "metadata": {
        "id": "g4mR-2DrE1i4"
      },
      "source": [
        "Next, we can get all the Xrefs contained in the pathway, mapped to a datasource of our choice. How convenient! We use the same system codes as described above. So, for example, if we want all the genes listed as Entrez Genes from this pathway:"
      ]
    },
    {
      "cell_type": "code",
      "execution_count": null,
      "metadata": {
        "id": "dvRV2-3gEmxZ"
      },
      "outputs": [],
      "source": [
        "pwpw.get_xref_list('WP554','L')"
      ]
    },
    {
      "cell_type": "markdown",
      "metadata": {
        "id": "lwcDzKcEFCI2"
      },
      "source": [
        "Alternatively, if we want them listed as Ensembl IDs instead, then…"
      ]
    },
    {
      "cell_type": "code",
      "execution_count": null,
      "metadata": {
        "id": "AVnWpFQsEms0"
      },
      "outputs": [],
      "source": [
        "pwpw.get_xref_list('WP554', 'En')"
      ]
    },
    {
      "cell_type": "markdown",
      "metadata": {
        "id": "EboEUtoIFKvK"
      },
      "source": [
        "And, if we want the metabolites, drugs and other small molecules associated with the pathways, then we’d simply provide the system code of a chemical database, e.g., Ch (HMBD), Ce (ChEBI) or Cs (Chemspider):"
      ]
    },
    {
      "cell_type": "code",
      "execution_count": null,
      "metadata": {
        "id": "6WPfvXOEEmjv"
      },
      "outputs": [],
      "source": [
        "pwpw.get_xref_list('WP554', 'Ch')"
      ]
    },
    {
      "cell_type": "code",
      "execution_count": null,
      "metadata": {
        "id": "bJ0JW2AEFUw3"
      },
      "outputs": [],
      "source": [
        "pwpw.get_xref_list('WP554', 'Ce')"
      ]
    },
    {
      "cell_type": "code",
      "execution_count": null,
      "metadata": {
        "id": "qyBJrO-yFUgo"
      },
      "outputs": [],
      "source": [
        "pwpw.get_xref_list('WP554', 'Cs')"
      ]
    },
    {
      "cell_type": "markdown",
      "metadata": {
        "id": "D24n2es3FVsj"
      },
      "source": [
        "It’s that easy!\n",
        "\n",
        "## Give me more\n",
        "We also provide methods for retrieving pathways as data files and as images. The native file format for WikiPathways is GPML, a custom XML specification. You can retrieve this format by…"
      ]
    },
    {
      "cell_type": "code",
      "execution_count": null,
      "metadata": {
        "id": "7YXkA1peWEFp"
      },
      "outputs": [],
      "source": [
        "gpml = pwpw.get_pathway('WP554')"
      ]
    },
    {
      "cell_type": "code",
      "execution_count": null,
      "metadata": {
        "id": "01au4A9jWEFp"
      },
      "outputs": [],
      "source": [
        "gpml[:1000]"
      ]
    },
    {
      "cell_type": "markdown",
      "metadata": {
        "id": "PCFn2ZbkWEFq"
      },
      "source": [
        "WikiPathways also provides a monthly data release archived at http://data.wikipathways.org. The archive includes GPML, GMT and SVG collections by organism and timestamped. There’s a Python function for grabbing files from the archive…"
      ]
    },
    {
      "cell_type": "code",
      "execution_count": null,
      "metadata": {
        "id": "2yB96w1eWEFq"
      },
      "outputs": [],
      "source": [
        "pwpw.download_pathway_archive()"
      ]
    },
    {
      "cell_type": "markdown",
      "metadata": {
        "id": "P7Igm1vLWEFq"
      },
      "source": [
        "This will simply print the archive URL so you can look around (in case you don’t know what you are looking for). By default, it prints the latest collection of GPML files. However, if you provide an organism, then it will download that file to your current working directory or specified **destpath**. For example, here’s how you’d get the latest GMT file for mouse:"
      ]
    },
    {
      "cell_type": "code",
      "execution_count": null,
      "metadata": {
        "id": "CkwfCzv0WEF0"
      },
      "outputs": [],
      "source": [
        "pwpw.download_pathway_archive(organism=\"Mus musculus\", format=\"gmt\")"
      ]
    },
    {
      "cell_type": "markdown",
      "metadata": {
        "id": "lwOT7dMVWEF0"
      },
      "source": [
        "And if you might want to specify an archive date so that you can easily share and reproduce your script at any time in the future and get the same result. Remember, new pathways are being added to WikiPathways every month and existing pathways are improved continuously!"
      ]
    },
    {
      "cell_type": "code",
      "execution_count": null,
      "metadata": {
        "id": "262F4Ug2WEF1"
      },
      "outputs": [],
      "source": [
        "pwpw.download_pathway_archive(date=\"20171010\", organism=\"Mus musculus\", format=\"gmt\")"
      ]
    },
    {
      "cell_type": "markdown",
      "metadata": {
        "id": "ZlLp6LyUWEF1"
      },
      "source": [
        "## References\n",
        "1. Pico AR, Kelder T, Iersel MP van, Hanspers K, Conklin BR, Evelo C: **WikiPathways: Pathway editing for the people.** *PLoS Biol* 2008, **6**:e184+.\n",
        "\n",
        "2. Iersel M van, Pico A, Kelder T, Gao J, Ho I, Hanspers K, Conklin B, Evelo C: **The BridgeDb framework: Standardized access to gene, protein and metabolite identifier mapping services.** *BMC Bioinformatics* 2010, **11**:5+.\n"
      ]
    }
  ],
  "metadata": {
    "colab": {
      "name": "pywikipathways-Overview",
      "private_outputs": true,
      "provenance": [],
      "include_colab_link": true
    },
    "kernelspec": {
      "display_name": "Python 3 (ipykernel)",
      "language": "python",
      "name": "python3"
    },
    "language_info": {
      "codemirror_mode": {
        "name": "ipython",
        "version": 3
      },
      "file_extension": ".py",
      "mimetype": "text/x-python",
      "name": "python",
      "nbconvert_exporter": "python",
      "pygments_lexer": "ipython3",
      "version": "3.9.6"
    }
  },
  "nbformat": 4,
  "nbformat_minor": 0
}