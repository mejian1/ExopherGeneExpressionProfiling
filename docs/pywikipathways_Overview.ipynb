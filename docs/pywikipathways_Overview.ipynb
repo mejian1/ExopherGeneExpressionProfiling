{
  "cells": [
    {
      "cell_type": "markdown",
      "metadata": {
        "id": "view-in-github",
        "colab_type": "text"
      },
      "source": [
        "<a href=\"https://colab.research.google.com/github/mejian1/ExopherGeneExpressionProfiling/blob/main/docs/pywikipathways_Overview.ipynb\" target=\"_parent\"><img src=\"https://colab.research.google.com/assets/colab-badge.svg\" alt=\"Open In Colab\"/></a>"
      ]
    },
    {
      "cell_type": "markdown",
      "metadata": {
        "id": "7gJOUxL2Bqhk"
      },
      "source": [
        "# Overview\n",
        "[![Open In Colab](https://colab.research.google.com/assets/colab-badge.svg)](https://colab.research.google.com/github/kozo2/pywikipathways/blob/main/docs/pywikipathways_Overview.ipynb)\n",
        "\n",
        "**by Kozo Nishida and Alexander Pico**\n",
        "\n",
        "**pywikipathways 0.0.2**\n",
        "\n",
        "*WikiPathways* is a well-known repository for biological pathways that provides unique tools to the research community for content creation, editing and utilization [1].\n",
        "\n",
        "**Python** is a powerful programming language and environment for statistical and exploratory data analysis.\n",
        "\n",
        "*pywikipathways* leverages the WikiPathways API to communicate between **Python** and WikiPathways, allowing any pathway to be queried, interrogated and downloaded in both data and image formats. Queries are typically performed based on “Xrefs”, standardized identifiers for genes, proteins and metabolites. Once you can identified a pathway, you can use the WPID (WikiPathways identifier) to make additional queries.\n",
        "\n",
        "## Prerequisites\n",
        "All you need is this **pywikipathways** package!\n",
        "To install pywikipathways, run"
      ]
    },
    {
      "cell_type": "code",
      "execution_count": null,
      "metadata": {
        "id": "irfDGrGi41bV"
      },
      "outputs": [],
      "source": [
        "!pip install pywikipathways"
      ]
    },
    {
      "cell_type": "code",
      "execution_count": null,
      "metadata": {
        "id": "Qd_9CKFubDWI"
      },
      "outputs": [],
      "source": [
        "import pywikipathways as pwpw"
      ]
    },
    {
      "source": [
        "celegans_pathway_ids = pwpw.list_pathway_ids(organism='Caenorhabditis elegans')"
      ],
      "cell_type": "code",
      "metadata": {
        "id": "sM-SKMZG50mW"
      },
      "execution_count": null,
      "outputs": []
    },
    {
      "cell_type": "markdown",
      "metadata": {
        "id": "ldQX1B-YC8E8"
      },
      "source": [
        "## Getting started\n",
        "Lets first get oriented with what WikiPathways contains. For example, here’s how you check to see which species are currently supported by WikiPathways:"
      ]
    },
    {
      "cell_type": "code",
      "execution_count": null,
      "metadata": {
        "id": "CCrccZGTbJEr"
      },
      "outputs": [],
      "source": [
        "pwpw.list_organisms()"
      ]
    },
    {
      "source": [
        "for pathway_id in celegans_pathway_ids:\n",
        "  # Get the list of genes (Entrez Gene IDs) for the current pathway\n",
        "  genes_in_pathway = pwpw.get_xref_list(pathway_id, 'L')\n",
        "  print(f\"Genes in pathway {pathway_id}: {genes_in_pathway}\")\n",
        "  import pandas as pd\n",
        "  pathway_genes = {}\n",
        "  for pathway_id in celegans_pathway_ids:\n",
        "  #genes_in_pathway = pwpw.get_xref_list(pathway_id, 'L')\n",
        "  pathway_genes[pathway_id] = genes_in_pathway\n",
        "  df = pd.DataFrame.from_dict(pathway_genes, orient='index')\n",
        "df = df.transpose()\n",
        "df.to_excel('celegans_pathway_genes.xlsx', index=False)\n"
      ],
      "cell_type": "code",
      "metadata": {
        "id": "-xHVqImC56VY"
      },
      "execution_count": null,
      "outputs": []
    },
    {
      "source": [
        "!pip install pywikipathways  # Install the pywikipathways package\n",
        "\n",
        "import pywikipathways as pwpw  # Import after installation\n",
        "import pandas as pd\n",
        "\n",
        "# ... (rest of your code) ...\n",
        "import pywikipathways as pwpw\n",
        "import pandas as pd\n",
        "\n",
        "celegans_pathway_ids = pwpw.list_pathway_ids(organism='Caenorhabditis elegans')\n",
        "\n",
        "pathway_genes = {} # Initialize pathway_genes outside the loops\n",
        "\n",
        "for pathway_id in celegans_pathway_ids:\n",
        "    # Get the list of genes (Entrez Gene IDs) for the current pathway\n",
        "    genes_in_pathway = pwpw.get_xref_list(pathway_id, 'L')\n",
        "    print(f\"Genes in pathway {pathway_id}: {genes_in_pathway}\")\n",
        "\n",
        "    # Store genes for the current pathway\n",
        "    pathway_genes[pathway_id] = genes_in_pathway\n",
        "\n",
        "# Create DataFrame after processing all pathways\n",
        "df = pd.DataFrame.from_dict(pathway_genes, orient='index')\n",
        "df = df.transpose()\n",
        "df.to_excel('celegans_pathway_genes.xlsx', index=False)"
      ],
      "cell_type": "code",
      "metadata": {
        "id": "-V4sYWNJOflz"
      },
      "execution_count": null,
      "outputs": []
    },
    {
      "source": [
        "!pip install biomart\n",
        "from biomart import BiomartServer\n",
        "server = BiomartServer(\"http://www.ensembl.org/biomart\")\n",
        "ensembl_mart = server.datasets['c_elegans_gene_ensembl']"
      ],
      "cell_type": "code",
      "metadata": {
        "id": "loPE2SdKPlms"
      },
      "execution_count": null,
      "outputs": []
    },
    {
      "source": [
        "server = BiomartServer(\"https://parasite.wormbase.org/parasite/mart.php\")\n",
        "   mart = server.datasets['c_elegans_gene_ensembl']"
      ],
      "cell_type": "code",
      "metadata": {
        "id": "pcvWpWqvQG6k"
      },
      "execution_count": null,
      "outputs": []
    },
    {
      "source": [
        "server = BiomartServer(\"https://parasite.wormbase.org/parasite/mart.php\")\n",
        "mart = server.datasets['c_elegans_gene_ensembl'] # Removed the extra indentation"
      ],
      "cell_type": "code",
      "metadata": {
        "id": "BnQalTwLQQoO"
      },
      "execution_count": null,
      "outputs": []
    },
    {
      "source": [
        "from biomart import BiomartServer\n",
        "\n",
        "server = BiomartServer(\"https://parasite.wormbase.org/parasite/mart.php?config=gene\")\n",
        "# The URL needs to point to the BioMart registry file, which might be located\n",
        "# at '...mart.php?config=gene' for Wormbase Parasite. This assumes a specific\n",
        "# configuration endpoint is available. Please refer to your Wormbase Parasite\n",
        "# BioMart documentation for the correct registry file location.\n",
        "mart = server.datasets['c_elegans_gene_ensembl']"
      ],
      "cell_type": "code",
      "metadata": {
        "id": "qYc_44fnQZDK"
      },
      "execution_count": null,
      "outputs": []
    },
    {
      "cell_type": "code",
      "source": [
        "from google.colab import drive\n",
        "drive.mount('/content/drive')"
      ],
      "metadata": {
        "id": "URYUT5RZQgoU"
      },
      "execution_count": null,
      "outputs": []
    },
    {
      "cell_type": "markdown",
      "metadata": {
        "id": "n9cznBF5DGil"
      },
      "source": [
        "You should see 30 or more species listed. This list is useful for subsequent queries that take an *organism* argument, to avoid misspelling.\n",
        "\n",
        "Next, let’s see how many pathways are available for Human:"
      ]
    },
    {
      "cell_type": "code",
      "execution_count": null,
      "metadata": {
        "id": "5vVJAMrCDMs4"
      },
      "outputs": [],
      "source": [
        "hs_pathways = pwpw.list_pathways('Homo sapiens')"
      ]
    },
    {
      "cell_type": "code",
      "execution_count": null,
      "metadata": {
        "id": "KZb5zLfHDTuA"
      },
      "outputs": [],
      "source": [
        "hs_pathways"
      ]
    },
    {
      "cell_type": "markdown",
      "metadata": {
        "id": "KFl0WBXGDvzQ"
      },
      "source": [
        "Yikes! That is a lot of information.\n",
        "Let’s break that down a bit:"
      ]
    },
    {
      "cell_type": "code",
      "execution_count": null,
      "metadata": {
        "id": "8sVREGDJRwDc"
      },
      "outputs": [],
      "source": [
        "help(pwpw.list_pathways)"
      ]
    },
    {
      "cell_type": "code",
      "execution_count": null,
      "metadata": {
        "id": "pCo4bCRYSJk_"
      },
      "outputs": [],
      "source": [
        "hs_pathways.shape"
      ]
    },
    {
      "cell_type": "markdown",
      "metadata": {
        "id": "roldgmRmSbB3"
      },
      "source": [
        "Ok. The help docs tell us that for each Human pathway we are getting a lot of information.\n",
        "A *pandas.DataFrame.shape* might be all you really want to know.\n",
        "Or if you’re interested in just one particular piece of information, check out these functions:"
      ]
    },
    {
      "cell_type": "code",
      "execution_count": null,
      "metadata": {
        "id": "NWQeopT0Savj"
      },
      "outputs": [],
      "source": [
        "help(pwpw.list_pathway_ids)"
      ]
    },
    {
      "cell_type": "code",
      "execution_count": null,
      "metadata": {
        "id": "3tTl5WH6TBZm"
      },
      "outputs": [],
      "source": [
        "help(pwpw.list_pathway_names)"
      ]
    },
    {
      "cell_type": "code",
      "execution_count": null,
      "metadata": {
        "id": "Z9BAIHD4TBPp"
      },
      "outputs": [],
      "source": [
        "help(pwpw.list_pathway_urls)"
      ]
    },
    {
      "cell_type": "markdown",
      "metadata": {
        "id": "-RcX6Am-TL4U"
      },
      "source": [
        "These return simple lists containing just a particular piece of information for each pathway result.\n",
        "\n",
        "Finally, there’s another way to find pathways of interest: by Xref. An Xref is simply a standardized identifier form an official source. WikiPathways relies on BridgeDb [2] to provide dozens of Xref sources for genes, proteins and metabolites. See the full list at https://github.com/bridgedb/datasources/blob/main/datasources.tsv\n",
        "\n",
        "With **pywikipathways**, the approach is simple.\n",
        "Take a supported identifier for a molecule of interest, e.g., an official gene symbol from HGNC, “TNF” and check the *system code* for the datasource, e.g., HGNC = H (this comes from the second column in the datasources.txt table linked to above), and then form your query:"
      ]
    },
    {
      "cell_type": "code",
      "execution_count": null,
      "metadata": {
        "id": "TM2nCqiYD9Y6"
      },
      "outputs": [],
      "source": [
        "tnf_pathways = pwpw.find_pathways_by_xref('TNF','H')"
      ]
    },
    {
      "cell_type": "code",
      "execution_count": null,
      "metadata": {
        "id": "lElpOozlEFEz"
      },
      "outputs": [],
      "source": [
        "tnf_pathways"
      ]
    },
    {
      "cell_type": "markdown",
      "metadata": {
        "id": "L73gzvkZEVhx"
      },
      "source": [
        "Ack! That’s a lot of information. We provide not only the pathway information, but also the search result score in case you want to rank results, etc. Again, if all you’re interested in is WPIDs, names or URLs, then there are these handy alternatives that will just return simple lists:"
      ]
    },
    {
      "cell_type": "code",
      "execution_count": null,
      "metadata": {
        "id": "Yl_13aW8Dic9"
      },
      "outputs": [],
      "source": [
        "help(pwpw.find_pathway_ids_by_xref)"
      ]
    },
    {
      "cell_type": "code",
      "execution_count": null,
      "metadata": {
        "id": "V5Kb7H1_41bX"
      },
      "outputs": [],
      "source": [
        "help(pwpw.find_pathway_names_by_xref)"
      ]
    },
    {
      "cell_type": "code",
      "execution_count": null,
      "metadata": {
        "id": "ugRwQBE341bX"
      },
      "outputs": [],
      "source": [
        "help(pwpw.find_pathway_urls_by_xref)"
      ]
    },
    {
      "cell_type": "markdown",
      "metadata": {
        "id": "sXBarDGI41bX"
      },
      "source": [
        "*Be aware*: a simple *len* function may be misleading here since a given pathway will be listed multiple times if the Xref is present mutiple times."
      ]
    },
    {
      "cell_type": "markdown",
      "metadata": {
        "id": "ldozfBTpEkpU"
      },
      "source": [
        "## My favorite pathways\n",
        "At this point, we should have one or more pathways identified from the queries above. Let’s assume we identified ‘WP554’, the Ace Inhibitor Pathway (https://wikipathways.org/instance/WP554). We will use its WPID (WP554) in subsequent queries.\n",
        "\n",
        "First off, we can get information about the pathway (if we didn’t already collect it above):"
      ]
    },
    {
      "cell_type": "code",
      "execution_count": null,
      "metadata": {
        "id": "1LgCbfyREm0k"
      },
      "outputs": [],
      "source": [
        "pwpw.get_pathway_info('WP554')"
      ]
    },
    {
      "cell_type": "markdown",
      "metadata": {
        "id": "g4mR-2DrE1i4"
      },
      "source": [
        "Next, we can get all the Xrefs contained in the pathway, mapped to a datasource of our choice. How convenient! We use the same system codes as described above. So, for example, if we want all the genes listed as Entrez Genes from this pathway:"
      ]
    },
    {
      "cell_type": "code",
      "execution_count": null,
      "metadata": {
        "id": "dvRV2-3gEmxZ"
      },
      "outputs": [],
      "source": [
        "pwpw.get_xref_list('WP554','L')"
      ]
    },
    {
      "cell_type": "markdown",
      "metadata": {
        "id": "lwcDzKcEFCI2"
      },
      "source": [
        "Alternatively, if we want them listed as Ensembl IDs instead, then…"
      ]
    },
    {
      "cell_type": "code",
      "execution_count": null,
      "metadata": {
        "id": "AVnWpFQsEms0"
      },
      "outputs": [],
      "source": [
        "pwpw.get_xref_list('WP554', 'En')"
      ]
    },
    {
      "cell_type": "markdown",
      "metadata": {
        "id": "EboEUtoIFKvK"
      },
      "source": [
        "And, if we want the metabolites, drugs and other small molecules associated with the pathways, then we’d simply provide the system code of a chemical database, e.g., Ch (HMBD), Ce (ChEBI) or Cs (Chemspider):"
      ]
    },
    {
      "cell_type": "code",
      "execution_count": null,
      "metadata": {
        "id": "6WPfvXOEEmjv"
      },
      "outputs": [],
      "source": [
        "pwpw.get_xref_list('WP554', 'Ch')"
      ]
    },
    {
      "cell_type": "code",
      "execution_count": null,
      "metadata": {
        "id": "bJ0JW2AEFUw3"
      },
      "outputs": [],
      "source": [
        "pwpw.get_xref_list('WP554', 'Ce')"
      ]
    },
    {
      "cell_type": "code",
      "execution_count": null,
      "metadata": {
        "id": "qyBJrO-yFUgo"
      },
      "outputs": [],
      "source": [
        "pwpw.get_xref_list('WP554', 'Cs')"
      ]
    },
    {
      "cell_type": "markdown",
      "metadata": {
        "id": "D24n2es3FVsj"
      },
      "source": [
        "It’s that easy!\n",
        "\n",
        "## Give me more\n",
        "We also provide methods for retrieving pathways as data files and as images. The native file format for WikiPathways is GPML, a custom XML specification. You can retrieve this format by…"
      ]
    },
    {
      "cell_type": "code",
      "execution_count": null,
      "metadata": {
        "id": "mRK39Bk741bY"
      },
      "outputs": [],
      "source": [
        "gpml = pwpw.get_pathway('WP554')"
      ]
    },
    {
      "cell_type": "code",
      "execution_count": null,
      "metadata": {
        "id": "wlyxKEpL41bY"
      },
      "outputs": [],
      "source": [
        "gpml[:1000]"
      ]
    },
    {
      "cell_type": "markdown",
      "metadata": {
        "id": "6MdfsDU441bY"
      },
      "source": [
        "WikiPathways also provides a monthly data release archived at http://data.wikipathways.org. The archive includes GPML, GMT and SVG collections by organism and timestamped. There’s a Python function for grabbing files from the archive…"
      ]
    },
    {
      "cell_type": "code",
      "execution_count": null,
      "metadata": {
        "id": "1GzOlKEP41bY"
      },
      "outputs": [],
      "source": [
        "pwpw.download_pathway_archive()"
      ]
    },
    {
      "cell_type": "markdown",
      "metadata": {
        "id": "ckREGYpT41bY"
      },
      "source": [
        "This will simply print the archive URL so you can look around (in case you don’t know what you are looking for). By default, it prints the latest collection of GPML files. However, if you provide an organism, then it will download that file to your current working directory or specified **destpath**. For example, here’s how you’d get the latest GMT file for mouse:"
      ]
    },
    {
      "cell_type": "code",
      "execution_count": null,
      "metadata": {
        "id": "Qk_K1x9u41bd"
      },
      "outputs": [],
      "source": [
        "pwpw.download_pathway_archive(organism=\"Mus musculus\", format=\"gmt\")"
      ]
    },
    {
      "cell_type": "markdown",
      "metadata": {
        "id": "E_Sq9tDE41bd"
      },
      "source": [
        "And if you might want to specify an archive date so that you can easily share and reproduce your script at any time in the future and get the same result. Remember, new pathways are being added to WikiPathways every month and existing pathways are improved continuously!"
      ]
    },
    {
      "cell_type": "code",
      "execution_count": null,
      "metadata": {
        "id": "ugNeF04g41bd"
      },
      "outputs": [],
      "source": [
        "pwpw.download_pathway_archive(date=\"20171010\", organism=\"Mus musculus\", format=\"gmt\")"
      ]
    },
    {
      "cell_type": "markdown",
      "metadata": {
        "id": "wcR4NZZQ41bd"
      },
      "source": [
        "## References\n",
        "1. Pico AR, Kelder T, Iersel MP van, Hanspers K, Conklin BR, Evelo C: **WikiPathways: Pathway editing for the people.** *PLoS Biol* 2008, **6**:e184+.\n",
        "\n",
        "2. Iersel M van, Pico A, Kelder T, Gao J, Ho I, Hanspers K, Conklin B, Evelo C: **The BridgeDb framework: Standardized access to gene, protein and metabolite identifier mapping services.** *BMC Bioinformatics* 2010, **11**:5+.\n"
      ]
    }
  ],
  "metadata": {
    "colab": {
      "name": "pywikipathways-Overview",
      "private_outputs": true,
      "provenance": [],
      "gpuType": "T4",
      "include_colab_link": true
    },
    "kernelspec": {
      "display_name": "Python 3",
      "name": "python3"
    },
    "language_info": {
      "codemirror_mode": {
        "name": "ipython",
        "version": 3
      },
      "file_extension": ".py",
      "mimetype": "text/x-python",
      "name": "python",
      "nbconvert_exporter": "python",
      "pygments_lexer": "ipython3",
      "version": "3.9.6"
    },
    "accelerator": "GPU"
  },
  "nbformat": 4,
  "nbformat_minor": 0
}